{
 "cells": [
  {
   "cell_type": "code",
   "execution_count": null,
   "metadata": {},
   "outputs": [],
   "source": [
    "import pandas as pd\n",
    "import numpy as np\n",
    "import matplotlib.pyplot as plt\n",
    "import seaborn as sns\n",
    "\n",
    "\n"
   ]
  },
  {
   "cell_type": "code",
   "execution_count": 1,
   "metadata": {},
   "outputs": [],
   "source": [
    "import tkinter\n",
    "\n",
    "window = tkinter.Tk()\n",
    "\n",
    "# Window 창설정\n",
    "window.title('AI TEST')\n",
    "window.geometry('640x480')  # 너비 x 높이 + x좌표 + y좌표\n",
    "window.resizable(False,False) # 창 크기 여부\n",
    "\n",
    "# 라벨링\n",
    "label = tkinter.Label(window, text='안녕하세요')\n",
    "label.pack()\n",
    "\n",
    "window.mainloop()"
   ]
  },
  {
   "cell_type": "code",
   "execution_count": 11,
   "metadata": {},
   "outputs": [
    {
     "data": {
      "text/html": [
       "<div>\n",
       "<style scoped>\n",
       "    .dataframe tbody tr th:only-of-type {\n",
       "        vertical-align: middle;\n",
       "    }\n",
       "\n",
       "    .dataframe tbody tr th {\n",
       "        vertical-align: top;\n",
       "    }\n",
       "\n",
       "    .dataframe thead th {\n",
       "        text-align: right;\n",
       "    }\n",
       "</style>\n",
       "<table border=\"1\" class=\"dataframe\">\n",
       "  <thead>\n",
       "    <tr style=\"text-align: right;\">\n",
       "      <th></th>\n",
       "      <th>id</th>\n",
       "      <th>음식점</th>\n",
       "      <th>인원</th>\n",
       "      <th>메인메뉴</th>\n",
       "      <th>서브메뉴1</th>\n",
       "      <th>서브메뉴2</th>\n",
       "      <th>서브메뉴3</th>\n",
       "      <th>서브메뉴4</th>\n",
       "      <th>서브메뉴5</th>\n",
       "      <th>요일</th>\n",
       "      <th>날짜</th>\n",
       "    </tr>\n",
       "  </thead>\n",
       "  <tbody>\n",
       "    <tr>\n",
       "      <th>0</th>\n",
       "      <td>0</td>\n",
       "      <td>금마루</td>\n",
       "      <td>6</td>\n",
       "      <td>한식</td>\n",
       "      <td>제육볶음</td>\n",
       "      <td>불고기</td>\n",
       "      <td>부대찌개</td>\n",
       "      <td>NaN</td>\n",
       "      <td>NaN</td>\n",
       "      <td>수요일</td>\n",
       "      <td>2024-01-10</td>\n",
       "    </tr>\n",
       "  </tbody>\n",
       "</table>\n",
       "</div>"
      ],
      "text/plain": [
       "   id  음식점 인원 메인메뉴 서브메뉴1 서브메뉴2 서브메뉴3  서브메뉴4  서브메뉴5   요일          날짜\n",
       "0   0  금마루  6   한식  제육볶음   불고기  부대찌개    NaN    NaN  수요일  2024-01-10"
      ]
     },
     "execution_count": 11,
     "metadata": {},
     "output_type": "execute_result"
    }
   ],
   "source": [
    "import pandas as pd\n",
    "import numpy as np\n",
    "import matplotlib.pyplot as plt\n",
    "import seaborn as sns\n",
    "\n",
    "# 방문 \n",
    "# 방문객 정보\n",
    "# 음식점 정보\n",
    "\n",
    "# 예시안\n",
    "columns_data = [\n",
    "    'id',\n",
    "    '음식점',\n",
    "    '인원',\n",
    "    '메인메뉴',\n",
    "    '서브메뉴1',\n",
    "    '서브메뉴2',\n",
    "    '서브메뉴3',\n",
    "    '서브메뉴4',\n",
    "    '서브메뉴5',\n",
    "    '요일',\n",
    "    '날짜',\n",
    "]\n",
    "\n",
    "index_data = [0, '금마루','6','한식','제육볶음','불고기','부대찌개',np.nan,np.nan,'수요일','2024-01-10']\n",
    "\n",
    "df = pd.DataFrame(columns=columns_data)\n",
    "df.loc[0] = index_data\n",
    "df\n"
   ]
  },
  {
   "cell_type": "code",
   "execution_count": null,
   "metadata": {},
   "outputs": [],
   "source": []
  }
 ],
 "metadata": {
  "kernelspec": {
   "display_name": "Python 3",
   "language": "python",
   "name": "python3"
  },
  "language_info": {
   "codemirror_mode": {
    "name": "ipython",
    "version": 3
   },
   "file_extension": ".py",
   "mimetype": "text/x-python",
   "name": "python",
   "nbconvert_exporter": "python",
   "pygments_lexer": "ipython3",
   "version": "3.12.1"
  }
 },
 "nbformat": 4,
 "nbformat_minor": 2
}
