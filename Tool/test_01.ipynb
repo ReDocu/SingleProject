{
 "cells": [
  {
   "cell_type": "code",
   "execution_count": 1,
   "metadata": {},
   "outputs": [],
   "source": [
    "import tkinter\n",
    "import tkinter.ttk\n",
    "\n",
    "window=tkinter.Tk()\n",
    "window.title(\"YUN DAE HEE\")\n",
    "window.geometry(\"640x400+100+100\")\n",
    "window.resizable(False, False)\n",
    "\n",
    "def cc(self):\n",
    "    treeview.tag_configure(\"tag2\", background=\"red\")\n",
    "\n",
    "treeview=tkinter.ttk.Treeview(window, columns=[\"one\", \"two\"], displaycolumns=[\"two\", \"one\"])\n",
    "treeview.pack()\n",
    "\n",
    "treeview.column(\"#0\", width=70)\n",
    "treeview.heading(\"#0\", text=\"num\")\n",
    "\n",
    "treeview.column(\"one\", width=100, anchor=\"center\")\n",
    "treeview.heading(\"one\", text=\"문자\", anchor=\"e\")\n",
    "\n",
    "treeview.column(\"#2\", width=100, anchor=\"w\")\n",
    "treeview.heading(\"two\", text=\"ASCII\", anchor=\"center\")\n",
    "\n",
    "treelist=[(\"A\", 65), (\"B\", 66), (\"C\", 67), (\"D\", 68), (\"E\", 69)]\n",
    "\n",
    "for i in range(len(treelist)):\n",
    "    \n",
    "    treeview.insert('', 'end', text=i, values=treelist[i], iid=str(i)+\"번\")\n",
    "\n",
    "top=treeview.insert('', 'end', text=str(len(treelist)), iid=\"5번\", tags=\"tag1\")\n",
    "top_mid1=treeview.insert(top, 'end', text=\"5-2\", values=[\"SOH\", 1], iid=\"5번-1\")\n",
    "top_mid2=treeview.insert(top, 0, text=\"5-1\", values=[\"NUL\", 0], iid=\"5번-0\", tags=\"tag2\")\n",
    "top_mid3=treeview.insert(top, 'end', text=\"5-3\", values=[\"STX\", 2], iid=\"5번-2\", tags=\"tag2\")\n",
    "\n",
    "treeview.tag_bind(\"tag1\", sequence=\"<<TreeviewSelect>>\", callback=cc)\n",
    "\n",
    "window.mainloop()"
   ]
  },
  {
   "cell_type": "code",
   "execution_count": null,
   "metadata": {},
   "outputs": [],
   "source": []
  }
 ],
 "metadata": {
  "kernelspec": {
   "display_name": "Python 3",
   "language": "python",
   "name": "python3"
  },
  "language_info": {
   "codemirror_mode": {
    "name": "ipython",
    "version": 3
   },
   "file_extension": ".py",
   "mimetype": "text/x-python",
   "name": "python",
   "nbconvert_exporter": "python",
   "pygments_lexer": "ipython3",
   "version": "3.12.1"
  }
 },
 "nbformat": 4,
 "nbformat_minor": 2
}
