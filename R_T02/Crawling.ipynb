{
 "cells": [
  {
   "cell_type": "code",
   "execution_count": null,
   "metadata": {},
   "outputs": [],
   "source": [
    "import requests\n",
    "from bs4 import BeautifulSoup\n",
    "from selenium import webdriver\n",
    "from selenium.webdriver.common.by import By\n",
    "from selenium.webdriver.common.keys import Keys\n",
    "import time\n",
    "from urllib.request import urlretrieve\n",
    "\n",
    "url = 'https://www.google.com/'\n",
    "\n",
    "driver = webdriver.Chrome()\n",
    "driver.get(url)\n",
    "time.sleep(1)\n",
    "\n",
    "elem = driver.find_element(By.CSS_SELECTOR, '#APjFqb')\n",
    "sk = \"늑대\"\n",
    "elem.send_keys(sk)\n",
    "elem.send_keys(Keys.RETURN)\n",
    "time.sleep(1)\n",
    "elem = driver.find_element(By.LINK_TEXT,'이미지')\n",
    "#elem = driver.find_element(By.CSS_SELECTOR, '#hdtb-msb > div:nth-child(1) > div > div:nth-child(2) > a')\n",
    "elem.click()\n",
    "time.sleep(1)\n",
    "\n",
    "############################################\n",
    "SCROLL_PAUSE_TIME = 2\n",
    "last_height = driver.execute_script(\"return document.body.scrollHeight\")\n",
    "\n",
    "while True:\n",
    "    driver.execute_script('window.scrollTo(0, document.body.scrollHeight);')\n",
    "    time.sleep(SCROLL_PAUSE_TIME)\n",
    "    new_height = driver.execute_script('return document.body.scrollHeight')\n",
    "    if new_height == last_height:\n",
    "        try:\n",
    "            time.sleep(SCROLL_PAUSE_TIME)\n",
    "            driver.find_element(By.CSS_SELECTOR, \"input.mye4qd\").click()\n",
    "        except:\n",
    "            break\n",
    "    last_height = new_height\n",
    "    time.sleep(1)\n",
    "    try:\n",
    "        elem = driver.find_element(By.CSS_SELECTOR, '#islmp > div > div > div > div > div.C5Hr4 > div.K414Oe > div.FAGjZe > input')\n",
    "        elem.click()\n",
    "    except:\n",
    "        pass\n",
    "############################################\n",
    "\n"
   ]
  }
 ],
 "metadata": {
  "language_info": {
   "name": "python"
  }
 },
 "nbformat": 4,
 "nbformat_minor": 2
}
