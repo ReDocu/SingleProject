{
 "cells": [
  {
   "cell_type": "code",
   "execution_count": 14,
   "metadata": {},
   "outputs": [
    {
     "name": "stdout",
     "output_type": "stream",
     "text": [
      "game_data\\105600.xlsx / game_data\\105600.xlsx\n",
      "game_data\\108600.xlsx / game_data\\108600.xlsx\n",
      "game_data\\1086940.xlsx / game_data\\1086940.xlsx\n",
      "game_data\\1091500.xlsx / game_data\\1091500.xlsx\n",
      "game_data\\1174180.xlsx / game_data\\1174180.xlsx\n",
      "game_data\\1203220.xlsx / game_data\\1203220.xlsx\n",
      "game_data\\1203620.xlsx / game_data\\1203620.xlsx\n",
      "game_data\\1222670.xlsx / game_data\\1222670.xlsx\n",
      "game_data\\1238810.xlsx / game_data\\1238810.xlsx\n",
      "game_data\\1245620.xlsx / game_data\\1245620.xlsx\n",
      "game_data\\1623730.xlsx / game_data\\1623730.xlsx\n",
      "game_data\\1778820.xlsx / game_data\\1778820.xlsx\n",
      "game_data\\1938090.xlsx / game_data\\1938090.xlsx\n",
      "game_data\\1966720.xlsx / game_data\\1966720.xlsx\n",
      "game_data\\2072450.xlsx / game_data\\2072450.xlsx\n",
      "game_data\\218620.xlsx / game_data\\218620.xlsx\n",
      "game_data\\2195250.xlsx / game_data\\2195250.xlsx\n",
      "game_data\\221100.xlsx / game_data\\221100.xlsx\n",
      "game_data\\2252570.xlsx / game_data\\2252570.xlsx\n",
      "game_data\\227300.xlsx / game_data\\227300.xlsx\n",
      "game_data\\250900.xlsx / game_data\\250900.xlsx\n",
      "game_data\\251570.xlsx / game_data\\251570.xlsx\n",
      "game_data\\252490.xlsx / game_data\\252490.xlsx\n",
      "game_data\\261550.xlsx / game_data\\261550.xlsx\n",
      "game_data\\271590.xlsx / game_data\\271590.xlsx\n",
      "game_data\\289070.xlsx / game_data\\289070.xlsx\n",
      "game_data\\322330.xlsx / game_data\\322330.xlsx\n",
      "game_data\\346110.xlsx / game_data\\346110.xlsx\n",
      "game_data\\359550.xlsx / game_data\\359550.xlsx\n",
      "game_data\\381210.xlsx / game_data\\381210.xlsx\n",
      "game_data\\394360.xlsx / game_data\\394360.xlsx\n",
      "game_data\\413150.xlsx / game_data\\413150.xlsx\n",
      "game_data\\431960.xlsx / game_data\\431960.xlsx\n",
      "game_data\\550_a.xlsx / game_data\\550.xlsx\n",
      "game_data\\582010.xlsx / game_data\\582010.xlsx\n"
     ]
    },
    {
     "name": "stderr",
     "output_type": "stream",
     "text": [
      "<>:12: SyntaxWarning: invalid escape sequence '\\d'\n",
      "<>:12: SyntaxWarning: invalid escape sequence '\\d'\n",
      "C:\\Users\\GJ\\AppData\\Local\\Temp\\ipykernel_6968\\2966845296.py:12: SyntaxWarning: invalid escape sequence '\\d'\n",
      "  reg = re.compile('\\d+')\n"
     ]
    },
    {
     "data": {
      "text/plain": [
       "['105600.xlsx',\n",
       " '108600.xlsx',\n",
       " '1086940.xlsx',\n",
       " '1091500.xlsx',\n",
       " '1174180.xlsx',\n",
       " '1203220.xlsx',\n",
       " '1203620.xlsx',\n",
       " '1222670.xlsx',\n",
       " '1238810.xlsx',\n",
       " '1245620.xlsx',\n",
       " '1623730.xlsx',\n",
       " '1778820.xlsx',\n",
       " '1938090.xlsx',\n",
       " '1966720.xlsx',\n",
       " '2072450.xlsx',\n",
       " '218620.xlsx',\n",
       " '2195250.xlsx',\n",
       " '221100.xlsx',\n",
       " '2252570.xlsx',\n",
       " '227300.xlsx',\n",
       " '250900.xlsx',\n",
       " '251570.xlsx',\n",
       " '252490.xlsx',\n",
       " '261550.xlsx',\n",
       " '271590.xlsx',\n",
       " '289070.xlsx',\n",
       " '322330.xlsx',\n",
       " '346110.xlsx',\n",
       " '359550.xlsx',\n",
       " '374320.csv',\n",
       " '381210.xlsx',\n",
       " '394360.xlsx',\n",
       " '413150.xlsx',\n",
       " '431960.xlsx',\n",
       " '550_a.xlsx',\n",
       " '582010.xlsx',\n",
       " '601150.csv']"
      ]
     },
     "execution_count": 14,
     "metadata": {},
     "output_type": "execute_result"
    }
   ],
   "source": [
    "import os\n",
    "import re\n",
    "\n",
    "csv_root_path = 'game_data'\n",
    "csv_folder_path = ''\n",
    "csv_folder_list = os.listdir(csv_root_path)\n",
    "\n",
    "os.rename\n",
    "\n",
    "for item in csv_folder_list:\n",
    "    if item.split('.')[1] == 'xlsx':\n",
    "        reg = re.compile('\\d+')\n",
    "        file = reg.findall(item)\n",
    "\n",
    "        origin_file = os.path.join(csv_root_path,item)\n",
    "        rename_file = os.path.join(csv_root_path,file[0] + '.xlsx')\n",
    "        print(origin_file, \"/\", rename_file)\n",
    "        os.rename(origin_file,rename_file)\n",
    "        \n",
    "    if item.split('.')[1] == 'csv':\n",
    "        reg = re.compile('\\d+')\n",
    "        file = reg.findall(item)\n",
    "\n",
    "        origin_file = os.path.join(csv_root_path,item)\n",
    "        rename_file = os.path.join(csv_root_path,file[0] + '.csv')\n",
    "        print(origin_file, \"/\", rename_file)\n",
    "        os.rename(origin_file,rename_file)\n",
    "\n",
    "csv_folder_list"
   ]
  },
  {
   "cell_type": "code",
   "execution_count": null,
   "metadata": {},
   "outputs": [],
   "source": [
    "\n"
   ]
  }
 ],
 "metadata": {
  "kernelspec": {
   "display_name": "Python 3",
   "language": "python",
   "name": "python3"
  },
  "language_info": {
   "codemirror_mode": {
    "name": "ipython",
    "version": 3
   },
   "file_extension": ".py",
   "mimetype": "text/x-python",
   "name": "python",
   "nbconvert_exporter": "python",
   "pygments_lexer": "ipython3",
   "version": "3.12.1"
  }
 },
 "nbformat": 4,
 "nbformat_minor": 2
}
