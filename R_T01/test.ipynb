{
 "cells": [
  {
   "cell_type": "code",
   "execution_count": 1,
   "metadata": {},
   "outputs": [
    {
     "data": {
      "text/plain": [
       "Unnamed: 0.1               0\n",
       "Unnamed: 0               676\n",
       "AppID                      0\n",
       "Name                       0\n",
       "Developer                  0\n",
       "Company                    0\n",
       "price                      0\n",
       "latest rating              2\n",
       "latest rating counter      0\n",
       "all rating                 2\n",
       "all rating counter         0\n",
       "release date               0\n",
       "category                   0\n",
       "DLC_Game                 676\n",
       "dtype: int64"
      ]
     },
     "execution_count": 1,
     "metadata": {},
     "output_type": "execute_result"
    }
   ],
   "source": [
    "import pandas as pd\n",
    "\n",
    "df = pd.read_csv(r'D:\\SourceTree\\SingleProject\\R_T01\\static_data\\game_info.csv')\n",
    "\n",
    "df.isnull().sum()\n",
    "df = df.drop('Unnamed: 0.2',axis=1)\n",
    "df.isnull().sum()"
   ]
  },
  {
   "cell_type": "code",
   "execution_count": 2,
   "metadata": {},
   "outputs": [
    {
     "data": {
      "text/html": [
       "<div>\n",
       "<style scoped>\n",
       "    .dataframe tbody tr th:only-of-type {\n",
       "        vertical-align: middle;\n",
       "    }\n",
       "\n",
       "    .dataframe tbody tr th {\n",
       "        vertical-align: top;\n",
       "    }\n",
       "\n",
       "    .dataframe thead th {\n",
       "        text-align: right;\n",
       "    }\n",
       "</style>\n",
       "<table border=\"1\" class=\"dataframe\">\n",
       "  <thead>\n",
       "    <tr style=\"text-align: right;\">\n",
       "      <th></th>\n",
       "      <th>Unnamed: 0.1</th>\n",
       "      <th>Unnamed: 0</th>\n",
       "      <th>AppID</th>\n",
       "      <th>Name</th>\n",
       "      <th>Developer</th>\n",
       "      <th>Company</th>\n",
       "      <th>price</th>\n",
       "      <th>latest rating</th>\n",
       "      <th>latest rating counter</th>\n",
       "      <th>all rating</th>\n",
       "      <th>all rating counter</th>\n",
       "      <th>release date</th>\n",
       "      <th>category</th>\n",
       "      <th>DLC_Game</th>\n",
       "    </tr>\n",
       "  </thead>\n",
       "  <tbody>\n",
       "    <tr>\n",
       "      <th>330</th>\n",
       "      <td>0</td>\n",
       "      <td>NaN</td>\n",
       "      <td>2305060</td>\n",
       "      <td>Hentai Jigsaw Puzzle Collection: Valentine’s E...</td>\n",
       "      <td>NSFWEntertainment</td>\n",
       "      <td>['NSFWEntertainment']</td>\n",
       "      <td>2300</td>\n",
       "      <td>NaN</td>\n",
       "      <td>0</td>\n",
       "      <td>NaN</td>\n",
       "      <td>0</td>\n",
       "      <td>22 Feb, 2023</td>\n",
       "      <td>['Casual']</td>\n",
       "      <td>NaN</td>\n",
       "    </tr>\n",
       "    <tr>\n",
       "      <th>408</th>\n",
       "      <td>0</td>\n",
       "      <td>NaN</td>\n",
       "      <td>315210</td>\n",
       "      <td>Suicide Squad: Kill the Justice League</td>\n",
       "      <td>Rocksteady Studios</td>\n",
       "      <td>['Warner Bros. Games']</td>\n",
       "      <td>89800</td>\n",
       "      <td>NaN</td>\n",
       "      <td>0</td>\n",
       "      <td>NaN</td>\n",
       "      <td>0</td>\n",
       "      <td>2 Feb, 2024</td>\n",
       "      <td>['Action']</td>\n",
       "      <td>NaN</td>\n",
       "    </tr>\n",
       "  </tbody>\n",
       "</table>\n",
       "</div>"
      ],
      "text/plain": [
       "     Unnamed: 0.1  Unnamed: 0    AppID  \\\n",
       "330             0         NaN  2305060   \n",
       "408             0         NaN   315210   \n",
       "\n",
       "                                                  Name           Developer  \\\n",
       "330  Hentai Jigsaw Puzzle Collection: Valentine’s E...   NSFWEntertainment   \n",
       "408             Suicide Squad: Kill the Justice League  Rocksteady Studios   \n",
       "\n",
       "                    Company   price latest rating  latest rating counter  \\\n",
       "330   ['NSFWEntertainment']    2300           NaN                      0   \n",
       "408  ['Warner Bros. Games']   89800           NaN                      0   \n",
       "\n",
       "    all rating  all rating counter  release date    category  DLC_Game  \n",
       "330        NaN                   0  22 Feb, 2023  ['Casual']       NaN  \n",
       "408        NaN                   0   2 Feb, 2024  ['Action']       NaN  "
      ]
     },
     "execution_count": 2,
     "metadata": {},
     "output_type": "execute_result"
    }
   ],
   "source": [
    "df[df['latest rating'].isnull()]"
   ]
  },
  {
   "cell_type": "code",
   "execution_count": 5,
   "metadata": {},
   "outputs": [
    {
     "name": "stderr",
     "output_type": "stream",
     "text": [
      "The chromedriver version (120.0.6099.109) detected in PATH at d:\\SourceTree\\SingleProject\\R_T01\\chromedriver.exe might not be compatible with the detected chrome version (121.0.6167.140); currently, chromedriver 121.0.6167.85 is recommended for chrome 121.*, so it is advised to delete the driver in PATH and retry\n"
     ]
    }
   ],
   "source": []
  },
  {
   "cell_type": "code",
   "execution_count": null,
   "metadata": {},
   "outputs": [],
   "source": []
  }
 ],
 "metadata": {
  "kernelspec": {
   "display_name": "Python 3",
   "language": "python",
   "name": "python3"
  },
  "language_info": {
   "codemirror_mode": {
    "name": "ipython",
    "version": 3
   },
   "file_extension": ".py",
   "mimetype": "text/x-python",
   "name": "python",
   "nbconvert_exporter": "python",
   "pygments_lexer": "ipython3",
   "version": "3.12.1"
  }
 },
 "nbformat": 4,
 "nbformat_minor": 2
}
